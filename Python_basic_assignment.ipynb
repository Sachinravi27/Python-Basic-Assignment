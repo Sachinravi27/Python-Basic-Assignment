{
  "nbformat": 4,
  "nbformat_minor": 0,
  "metadata": {
    "colab": {
      "provenance": [],
      "gpuType": "T4"
    },
    "kernelspec": {
      "name": "python3",
      "display_name": "Python 3"
    },
    "language_info": {
      "name": "python"
    },
    "accelerator": "GPU"
  },
  "cells": [
    {
      "cell_type": "markdown",
      "source": [
        "#Theoretical Questions\n",
        "\n",
        "1. What is Python, and why is it popular?\n",
        "\n",
        "  - Python is a high-level, easy to read programming language.\n",
        "It's popular because simple to learn, clean syntax and supports many libraries for things like data analysis, web development, and automation.\n",
        "\n",
        "\n",
        "2. What is an interpreter in Python?\n",
        "\n",
        " - An interpreter in Python reads the code line by line and runs it. It does not run the whole code at once. It checks and runs each line one by one.\n",
        "\n",
        "\n",
        "3. What are pre-defined keywords in Python?\n",
        "\n",
        " - Pre-defined keywords in Python are some special words that are already   used by Python. We cannot use them as variable names or function names.\n",
        " they have fixed meaning.\n",
        "\n",
        "\n",
        "4. Can keywords be used as variable names?\n",
        " - No, keywords cannot be used as variable names.\n",
        "They are already used by Python for specific tasks, so if we use them as variable names, it will give an error.\n",
        "\n",
        "\n",
        "5. What is mutability in Python?\n",
        "\n",
        " - Mutability in Python means if you can change something after making it.\n",
        "If yes, it's mutable.   e.g.- list.\n",
        "If no, it's immutable.  e.g.- string or tuple.\n",
        "\n",
        "\n",
        "6. Why are lists mutable, but tuples are immutable?\n",
        "\n",
        " - Lists are mutable because you can add, remove, or change items in them after creating.\n",
        "Tuples are immutable because once made, you cannot change anything inside them.\n",
        "That's why lists are mutable but tuples are immutable.\n",
        "\n",
        "\n",
        "7.  What is the difference between “==” and “is” operators in Python?\n",
        "\n",
        " - \"==\" checks if the values of two things are same.\n",
        "\"is\" checks if both are exactly the same object in memory.\n",
        "       \n",
        "       For example: a == b means their data is equal.\n",
        "         a is b means both point to the same place in computer memory.\n",
        "\n",
        "\n",
        "8. What are logical operators in Python?\n",
        "\n",
        " - Logical operators in Python are words that help you join conditions and check if they are True or False.\n",
        "\n",
        "  * and operator (both conditions must be True)\n",
        "\n",
        "  * or operator (any one condition True is enough)\n",
        "\n",
        "  * not operator (reverses the True/False)\n",
        "\n",
        "\n",
        "9. What is type casting in Python?\n",
        "\n",
        " - Type casting in Python means changing one data type into another. for example: turning a number into a string or a string into an integer.\n",
        "\n",
        "10.  What is the difference between implicit and explicit type casting?\n",
        "\n",
        " - Implicit type casting is when Python automatically changes one data type to another without you asking.\n",
        "Explicit type casting is when you tell Python to change the data type using functions like int(), str(), etc.\n",
        "\n",
        "11. What is the purpose of conditional statements in Python?\n",
        "\n",
        " - Conditional statements in Python help the program decide what to do based on conditions.\n",
        "If something is true do this, else do something else.\n",
        "They control the flow of the program.\n",
        "\n",
        "12. How does the elif statement work?\n",
        "\n",
        " - elif in Python is like saying “if the first condition is false, then check this one”. It comes after an if and before else.\n",
        "  If the if is false, Python checks elif condition — if that's true, it runs that block.\n",
        "  If all if and elif are false, then else runs (if present).\n",
        "\n",
        "  Simple way: check conditions one by one, run the first one that's true.  \n",
        "\n",
        "13. What is the difference between for and while loops\n",
        "\n",
        " - For loop runs when you know exactly how many times you want to repeat something. While loop runs as long as a condition is true, even if you don’t know how many times it will run.\n",
        "\n",
        " - For loop = fixed number of times\n",
        " - While loop = runs until condition stops being true\n",
        "\n",
        "14.  Describe a scenario where a while loop is more suitable than a for loop?\n",
        "\n",
        " - A while loop is better when you don’t know how many times the loop will run.\n",
        "\n",
        " - Example:\n",
        "   If you want to ask the user to enter a password until it's correct.\n",
        "  You don’t know how many tries it will take, so while loop is better.\n",
        "\n",
        "\n",
        "\n",
        "\n",
        "\n",
        "\n",
        "\n",
        "\n",
        "\n",
        "\n",
        "\n",
        "\n",
        "\n",
        "\n",
        "\n",
        "\n",
        "\n",
        "\n",
        "\n",
        "\n"
      ],
      "metadata": {
        "id": "-MyylMIUFilH"
      }
    },
    {
      "cell_type": "markdown",
      "source": [
        "# Practical Questions\n"
      ],
      "metadata": {
        "id": "fHsWVY6QCr9o"
      }
    },
    {
      "cell_type": "code",
      "source": [
        "# 1. Write a Python program to print \"Hello, World!\"\n",
        "\n",
        "print(\"Hello, World!\")"
      ],
      "metadata": {
        "id": "E79XTILAC1K0"
      },
      "execution_count": null,
      "outputs": []
    },
    {
      "cell_type": "code",
      "source": [
        "# 2. Write a Python program that displays your name and age.\n",
        "\n",
        "name = \"Sachin\"\n",
        "age = 26\n",
        "print(f\"My name is {name} and my age is {age}\")"
      ],
      "metadata": {
        "id": "5aeB4Xn7DW-O"
      },
      "execution_count": null,
      "outputs": []
    },
    {
      "cell_type": "code",
      "source": [
        "# 3. Write code to print all the pre-defined keywords in Python using the keyword library.\n",
        "\n",
        "import keyword\n",
        "print(keyword.kwlist)"
      ],
      "metadata": {
        "id": "3AAZaGVYGL0g"
      },
      "execution_count": null,
      "outputs": []
    },
    {
      "cell_type": "code",
      "source": [
        "# 4. Write a program that checks if a given word is a Python keyword.\n",
        "\n",
        "import keyword\n",
        "\n",
        "word = input(\"Enter a word: \")\n",
        "\n",
        "if keyword.iskeyword(word):\n",
        "    print(\"It is a Python keyword.\")\n",
        "else:\n",
        "    print(\"It is not a Python keyword.\")"
      ],
      "metadata": {
        "id": "5qIJFO3UZIbF"
      },
      "execution_count": null,
      "outputs": []
    },
    {
      "cell_type": "code",
      "source": [
        "# 5.  Create a list and tuple in Python, and demonstrate how attempting to change an element works differently for each.\n",
        "\n",
        "# Create a list\n",
        "my_list = [10, 20, 30]\n",
        "my_list[1] = 99\n",
        "print(\"List after change:\", my_list)\n",
        "\n",
        "# Create a tuple\n",
        "my_tuple = (10, 20, 30)\n",
        "# my_tuple[1] = 99  # This line will give error\n",
        "print(\"Tuple can't be changed:\", my_tuple)"
      ],
      "metadata": {
        "id": "jKBHYlNIZgLr",
        "colab": {
          "base_uri": "https://localhost:8080/"
        },
        "outputId": "3914c019-433c-46ad-cc76-8fcd7aaa973d"
      },
      "execution_count": 1,
      "outputs": [
        {
          "output_type": "stream",
          "name": "stdout",
          "text": [
            "List after change: [10, 99, 30]\n",
            "Tuple can't be changed: (10, 20, 30)\n"
          ]
        }
      ]
    },
    {
      "cell_type": "code",
      "source": [
        "# 6. Write a function to demonstrate the behavior of mutable and immutable arguments.\n",
        "\n",
        "def change_values(my_list, my_num):\n",
        "    my_list.append(100)\n",
        "    my_num = my_num + 1\n",
        "    print(\"Inside function:\")\n",
        "    print(\"List:\", my_list)\n",
        "    print(\"Number:\", my_num)\n",
        "\n",
        "# Original values\n",
        "numbers = [1, 2, 3]\n",
        "num = 10\n",
        "\n",
        "change_values(numbers, num)\n",
        "\n",
        "print(\"Outside function:\")\n",
        "print(\"List:\", numbers)\n",
        "print(\"Number:\", num)"
      ],
      "metadata": {
        "id": "JXyzvf4aZs12",
        "colab": {
          "base_uri": "https://localhost:8080/"
        },
        "outputId": "1588b8e9-e21f-4b2c-cce2-1dcc367aa0d8"
      },
      "execution_count": 3,
      "outputs": [
        {
          "output_type": "stream",
          "name": "stdout",
          "text": [
            "Inside function:\n",
            "List: [1, 2, 3, 100]\n",
            "Number: 11\n",
            "Outside function:\n",
            "List: [1, 2, 3, 100]\n",
            "Number: 10\n"
          ]
        }
      ]
    },
    {
      "cell_type": "code",
      "source": [
        "# 7. Write a program that performs basic arithmetic operations on two user-input numbers.\n",
        "\n",
        "num1 = float(input(\"Enter first number: \"))\n",
        "num2 = float(input(\"Enter second number: \"))\n",
        "\n",
        "print(\"Addition:\", num1 + num2)\n",
        "print(\"Subtraction:\", num1 - num2)\n",
        "print(\"Multiplication:\", num1 * num2)\n",
        "print(\"Division:\", num1 / num2)"
      ],
      "metadata": {
        "colab": {
          "base_uri": "https://localhost:8080/"
        },
        "id": "EH46DNvCfO43",
        "outputId": "ac6bcaf8-6364-41f5-82cb-1b7c6e1fbf8e"
      },
      "execution_count": 5,
      "outputs": [
        {
          "output_type": "stream",
          "name": "stdout",
          "text": [
            "Enter first number: 7\n",
            "Enter second number: 8\n",
            "Addition: 15.0\n",
            "Subtraction: -1.0\n",
            "Multiplication: 56.0\n",
            "Division: 0.875\n"
          ]
        }
      ]
    },
    {
      "cell_type": "code",
      "source": [
        "# 8. Write a program to demonstrate the use of logical operators.\n",
        "\n",
        "\n",
        "a = 10\n",
        "b = 5\n",
        "c = 15\n",
        "\n",
        "# and operator\n",
        "print(a > b and a < c)\n",
        "\n",
        "# or operator\n",
        "print(a < b or a < c)\n",
        "\n",
        "# not operator\n",
        "print(not(a > b))"
      ],
      "metadata": {
        "colab": {
          "base_uri": "https://localhost:8080/"
        },
        "id": "LYdr2Y1dfr3T",
        "outputId": "77eb1d36-bec5-4418-d332-153fe3f0b052"
      },
      "execution_count": 8,
      "outputs": [
        {
          "output_type": "stream",
          "name": "stdout",
          "text": [
            "True\n",
            "True\n",
            "False\n"
          ]
        }
      ]
    },
    {
      "cell_type": "code",
      "source": [
        "# 9. Write a Python program to convert user input from string to integer, float, and boolean types.\n",
        "\n",
        "x = input(\"Enter a value: \")\n",
        "\n",
        "print(\"As integer:\", int(x))\n",
        "print(\"As float:\", float(x))\n",
        "print(\"As boolean:\", bool(x))"
      ],
      "metadata": {
        "colab": {
          "base_uri": "https://localhost:8080/"
        },
        "id": "DBoDqjDkgSu3",
        "outputId": "f7f5abf2-3f7a-44b9-badf-4d6157d0898d"
      },
      "execution_count": 10,
      "outputs": [
        {
          "output_type": "stream",
          "name": "stdout",
          "text": [
            "Enter a value: 87\n",
            "As integer: 87\n",
            "As float: 87.0\n",
            "As boolean: True\n"
          ]
        }
      ]
    },
    {
      "cell_type": "code",
      "source": [
        "# 10.  Write code to demonstrate type casting with list elements.\n",
        "\n",
        "data = [\"1\", \"2\", \"3\"]\n",
        "data = [int(x) for x in data]\n",
        "\n",
        "print(data)\n",
        "print(type(data))"
      ],
      "metadata": {
        "colab": {
          "base_uri": "https://localhost:8080/"
        },
        "id": "EtT63Fc3g6_M",
        "outputId": "b9e7878e-5147-4e2e-b569-2f667af734bb"
      },
      "execution_count": 13,
      "outputs": [
        {
          "output_type": "stream",
          "name": "stdout",
          "text": [
            "[1, 2, 3]\n",
            "<class 'list'>\n"
          ]
        }
      ]
    },
    {
      "cell_type": "code",
      "source": [
        "# 11. Write a program that checks if a number is positive, negative, or zero.\n",
        "\n",
        "num = float(input(\"Enter a number: \"))\n",
        "\n",
        "if num > 0:\n",
        "    print(\"Number is positive\")\n",
        "elif num < 0:\n",
        "    print(\"Number is negative\")\n",
        "else:\n",
        "    print(\"Number is zero\")"
      ],
      "metadata": {
        "colab": {
          "base_uri": "https://localhost:8080/"
        },
        "id": "aLIsaRkAhgbh",
        "outputId": "149c4d33-7109-462a-98a2-4c849cb5f7ec"
      },
      "execution_count": 15,
      "outputs": [
        {
          "output_type": "stream",
          "name": "stdout",
          "text": [
            "Enter a number: -1\n",
            "Number is negative\n"
          ]
        }
      ]
    },
    {
      "cell_type": "code",
      "source": [
        "# 12. Write a for loop to print numbers from 1 to 10.\n",
        "\n",
        "for i in range(1, 11):\n",
        "    print(i)"
      ],
      "metadata": {
        "colab": {
          "base_uri": "https://localhost:8080/"
        },
        "id": "tvWL45SkhyMb",
        "outputId": "9200c5bc-f6a2-4469-cba1-387356a479a7"
      },
      "execution_count": 16,
      "outputs": [
        {
          "output_type": "stream",
          "name": "stdout",
          "text": [
            "1\n",
            "2\n",
            "3\n",
            "4\n",
            "5\n",
            "6\n",
            "7\n",
            "8\n",
            "9\n",
            "10\n"
          ]
        }
      ]
    },
    {
      "cell_type": "code",
      "source": [
        "# 13. Write a Python program to find the sum of all even numbers between 1 and 50\n",
        "\n",
        "total = 0\n",
        "\n",
        "for i in range(2, 51, 2):\n",
        "    total += i\n",
        "\n",
        "print(\"Sum of even numbers from 1 to 50 is:\", total)"
      ],
      "metadata": {
        "colab": {
          "base_uri": "https://localhost:8080/"
        },
        "id": "VxY6Eptch_Ic",
        "outputId": "51738f35-5698-4383-cad6-4f82e6ac3bdc"
      },
      "execution_count": 17,
      "outputs": [
        {
          "output_type": "stream",
          "name": "stdout",
          "text": [
            "Sum of even numbers from 1 to 50 is: 650\n"
          ]
        }
      ]
    },
    {
      "cell_type": "code",
      "source": [
        "# 14. Write a program to reverse a string using a while loop.\n",
        "\n",
        "s = input(\"Enter a string: \")\n",
        "i = len(s) - 1\n",
        "rev = \"\"\n",
        "\n",
        "while i >= 0:\n",
        "    rev = rev + s[i]\n",
        "    i = i - 1\n",
        "\n",
        "print(rev)"
      ],
      "metadata": {
        "colab": {
          "base_uri": "https://localhost:8080/"
        },
        "id": "uU9E8JNKjJCH",
        "outputId": "4dfe07bf-eee3-4403-8dbc-4338a3b152d4"
      },
      "execution_count": 19,
      "outputs": [
        {
          "output_type": "stream",
          "name": "stdout",
          "text": [
            "Enter a string: sachin\n",
            "nihcas\n"
          ]
        }
      ]
    },
    {
      "cell_type": "code",
      "source": [
        "# 15. Write a Python program to calculate the factorial of a number provided by the user using a while loop.\n",
        "\n",
        "num = int(input(\"Enter a number: \"))\n",
        "fact = 1\n",
        "\n",
        "while num > 0:\n",
        "    fact = fact * num\n",
        "    num = num - 1\n",
        "\n",
        "print(\"Factorial is:\", fact)"
      ],
      "metadata": {
        "colab": {
          "base_uri": "https://localhost:8080/"
        },
        "id": "yfl-MMrlj9ua",
        "outputId": "3078f071-76ed-4ae7-c34c-cbe9203733af"
      },
      "execution_count": 21,
      "outputs": [
        {
          "output_type": "stream",
          "name": "stdout",
          "text": [
            "Enter a number: 5\n",
            "Factorial is: 120\n"
          ]
        }
      ]
    }
  ]
}